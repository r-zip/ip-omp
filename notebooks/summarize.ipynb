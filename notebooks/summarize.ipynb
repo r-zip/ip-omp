{
 "cells": [
  {
   "cell_type": "code",
   "execution_count": null,
   "metadata": {},
   "outputs": [],
   "source": [
    "%matplotlib inline"
   ]
  },
  {
   "cell_type": "code",
   "execution_count": null,
   "metadata": {},
   "outputs": [],
   "source": [
    "%config InlineBackend.figure_format = \"retina\""
   ]
  },
  {
   "cell_type": "code",
   "execution_count": null,
   "metadata": {},
   "outputs": [],
   "source": [
    "import json\n",
    "import joblib\n",
    "from pathlib import Path\n",
    "\n",
    "import matplotlib.pyplot as plt\n",
    "import pandas as pd\n",
    "import numpy as np\n",
    "import seaborn as sns\n",
    "sns.set()"
   ]
  },
  {
   "cell_type": "code",
   "execution_count": null,
   "metadata": {},
   "outputs": [],
   "source": [
    "def load(path: Path) -> tuple[pd.DataFrame, dict[str, np.ndarray], dict[str, int | float | str]]:\n",
    "    with open(path / \"results.json\") as f:\n",
    "        results = json.load(f)\n",
    "\n",
    "    settings = {k: v for k, v in results.items() if k != \"results\"}\n",
    "\n",
    "    trials = results[\"results\"]\n",
    "    max_length = max(len(r[\"precision_ip\"]) for r in trials)\n",
    "    scalar_keys = [\"coherence\", \"iters_ip\", \"iters_omp\", \"sparsity\"]\n",
    "    interpolated = {k: list() for k in trials[0].keys() if k not in scalar_keys}\n",
    "    scalars = {k: list() for k in trials[0].keys()}\n",
    "    x = np.arange(max_length) / max_length\n",
    "    for k in interpolated.keys():\n",
    "\n",
    "        for record in trials:\n",
    "            n = len(record[k])\n",
    "            xp = np.arange(n) / n\n",
    "            interpolated[k].append(np.interp(x, xp, record[k]))\n",
    "\n",
    "        interpolated[k] = np.vstack(interpolated[k])\n",
    "\n",
    "    for k in scalars.keys():\n",
    "        for record in trials:\n",
    "            if k in scalar_keys:\n",
    "                scalars[k].append(record[k])\n",
    "            else:\n",
    "                scalars[k].append(record[k][-1])\n",
    "\n",
    "    df = pd.DataFrame(scalars)\n",
    "\n",
    "    for key, value in settings.items():\n",
    "        df[key] = value\n",
    "\n",
    "    df[\"trial\"] = np.arange(len(df))\n",
    "\n",
    "    df[\"setting_id\"] = int(path.stem)\n",
    "\n",
    "    with open(path / \"interpolated.pkl\", \"wb\") as f:\n",
    "        joblib.dump(interpolated, f)\n",
    "\n",
    "    with open(path / \"settings.json\", \"w\") as f:\n",
    "        json.dump(settings, f)\n",
    "\n",
    "    return df, interpolated, settings"
   ]
  },
  {
   "cell_type": "code",
   "execution_count": null,
   "metadata": {},
   "outputs": [],
   "source": [
    "def key_to_ylabel(key: str) -> str:\n",
    "    if key in [\"precision\", \"recall\"]:\n",
    "        return key.title()\n",
    "\n",
    "    elif key.startswith(\"mse_x\"):\n",
    "        return r\"$||\\widehat{x} - x||_2^2$\"\n",
    "\n",
    "    elif key.startswith(\"mse_y\"):\n",
    "        return r\"$||\\widehat{y} - y||_2^2$\"\n",
    "\n",
    "    return \"Maximum Objective\"\n",
    "\n",
    "\n",
    "def plot(interpolated: dict[str, np.ndarray], settings: dict[str, float], path: Path):\n",
    "    for key in [\"precision\", \"recall\", \"mse_x\", \"mse_y\"]:\n",
    "        ip = interpolated[f\"{key}_ip\"]\n",
    "        omp = interpolated[f\"{key}_omp\"]\n",
    "\n",
    "        # hack to normalize (TODO: fix normalization in experiments)\n",
    "        if key in [\"mse_x\", \"mse_y\"]:\n",
    "            ip /= settings[\"n\"] * settings[\"sparsity\"]\n",
    "            omp /= settings[\"n\"] * settings[\"sparsity\"]\n",
    "\n",
    "        n = interpolated[f\"{key}_ip\"].shape[1]\n",
    "        x = np.arange(n) / n\n",
    "\n",
    "        mean_ip = np.mean(ip, axis=0)\n",
    "        lo_ip = np.quantile(ip, 0.25, axis=0)\n",
    "        hi_ip = np.quantile(ip, 0.75, axis=0)\n",
    "        mean_omp = np.mean(omp, axis=0)\n",
    "        lo_omp = np.quantile(omp, 0.25, axis=0)\n",
    "        hi_omp = np.quantile(omp, 0.75, axis=0)\n",
    "        plt.figure()\n",
    "        plt.plot(x, mean_omp)\n",
    "        plt.fill_between(x, lo_omp, hi_omp, alpha=0.3)\n",
    "        plt.plot(x, mean_ip, \"--\")\n",
    "        plt.fill_between(x, lo_ip, hi_ip, alpha=0.3)\n",
    "        plt.legend([\"OMP Mean\", \"OMP IQR\", \"IP Mean\", \"IP IQR\"])\n",
    "        m, n, s = settings[\"m\"], settings[\"n\"], settings[\"sparsity\"]\n",
    "        plt.title(rf\"{m=}, {n=}, $\\mathbb{{E}}[s]={s}$ ($\\rho={m/n:0.2f}$)\")\n",
    "        plt.xlabel(\"Fraction of Iterations Completed $k / s$\")\n",
    "        plt.ylabel(key_to_ylabel(key))\n",
    "        if key in [\"precision\", \"recall\"]:\n",
    "            plt.ylim((-0.025, 1.025))\n",
    "        plt.tight_layout()\n",
    "        plt.savefig(path / f\"{key}.png\", dpi=300)\n",
    "        plt.close()"
   ]
  },
  {
   "cell_type": "code",
   "execution_count": null,
   "metadata": {},
   "outputs": [],
   "source": [
    "list(Path(\"results\").iterdir())"
   ]
  },
  {
   "cell_type": "code",
   "execution_count": null,
   "metadata": {},
   "outputs": [],
   "source": [
    "dfs = []\n",
    "for path in Path(\"results\").iterdir():\n",
    "    if path.is_dir() and (path / \"results.json\").exists():\n",
    "        df, interpolated, settings = load(path)\n",
    "        plot(interpolated, settings, path)\n",
    "        dfs.append(df)\n",
    "df = pd.concat(dfs, ignore_index=True)\n",
    "df_long = pd.wide_to_long(df, [\"precision\", \"recall\", \"mse_x\", \"mse_y\", \"max_objective\", \"iters\"], i=[\"setting_id\", \"trial\"], j=\"algorithm\", sep=\"_\", suffix=\"(ip|omp)\").reset_index()\n",
    "# TODO: record norm of x, y so we can actually do dB calculations\n",
    "# df_long[\"mse_x_db\"] = 10 * np.log10(df_long[\"mse_x\"])\n",
    "# df_long[\"mse_y_db\"] = 10 * np.log(df_long[\"mse_y\"])\n",
    "df_long[\"rho\"] = df_long[\"m\"] / df_long[\"n\"]\n",
    "df_long = df_long.assign(mse_x=df_long[\"mse_x\"] / (df_long[\"n\"] * df_long[\"sparsity\"]))\n",
    "df_long = df_long.assign(mse_y=df_long[\"mse_y\"] / (df_long[\"n\"] * df_long[\"sparsity\"]))"
   ]
  },
  {
   "cell_type": "code",
   "execution_count": null,
   "metadata": {},
   "outputs": [],
   "source": [
    "(df[\"precision_omp\"] == df[\"recall_omp\"]).all()"
   ]
  },
  {
   "cell_type": "code",
   "execution_count": null,
   "metadata": {},
   "outputs": [],
   "source": [
    "fig_path = Path(\"./figures\")\n",
    "fig_path.mkdir(exist_ok=True)\n",
    "metrics = [\"precision\", \"recall\", \"mse_x\", \"mse_y\", \"iou\"]\n",
    "metric_to_label = {\n",
    "    \"precision\": \"Precision\",\n",
    "    \"recall\": \"Recall\",\n",
    "    \"mse_x_db\": \"Sparse Code MSE (dB)\",\n",
    "    \"mse_y_db\": \"Reconstruction MSE (dB)\",\n",
    "    \"mse_x\": r\"$||\\widehat{x} - x||_2^2$\",\n",
    "    \"mse_y\": r\"$||\\widehat{y} - y||_2^2$\",\n",
    "    \"iou\": \"IP/OMP Support IoU\"\n",
    "}\n",
    "\n",
    "for metric in metrics:\n",
    "    for _, row in df[[\"m\", \"n\"]].drop_duplicates().iterrows():\n",
    "        m = row[\"m\"]\n",
    "        n = row[\"n\"]\n",
    "        sub_df = df_long.loc[(df_long.m == m) & (df_long.n == n)]\n",
    "        sub_df = sub_df.assign(Algorithm=sub_df[\"algorithm\"].str.upper().copy())\n",
    "        plt.figure()\n",
    "        sns.boxplot(sub_df, x=\"sparsity\", y=metric, hue=\"Algorithm\" if metric != \"iou\" else None)\n",
    "        plt.xlabel(r\"Average Sparsity $\\mathbb{E}[s] = \\Pr(x_i) \\ne 0$\")\n",
    "        plt.ylabel(metric_to_label[metric])\n",
    "        plt.title(f\"{m=}, {n=}\")\n",
    "        plt.savefig(fig_path / f\"{metric}_{m}_{n}.png\", dpi=300)"
   ]
  }
 ],
 "metadata": {
  "kernelspec": {
   "display_name": "Python 3 (ipykernel)",
   "language": "python",
   "name": "python3"
  },
  "language_info": {
   "codemirror_mode": {
    "name": "ipython",
    "version": 3
   },
   "file_extension": ".py",
   "mimetype": "text/x-python",
   "name": "python",
   "nbconvert_exporter": "python",
   "pygments_lexer": "ipython3"
  }
 },
 "nbformat": 4,
 "nbformat_minor": 4
}
