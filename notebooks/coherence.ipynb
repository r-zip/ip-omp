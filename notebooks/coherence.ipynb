{
 "cells": [
  {
   "cell_type": "code",
   "execution_count": null,
   "metadata": {},
   "outputs": [],
   "source": [
    "%cd ~/projects/ip-is-all-you-need"
   ]
  },
  {
   "cell_type": "code",
   "execution_count": null,
   "metadata": {},
   "outputs": [],
   "source": [
    "import numpy as np\n",
    "import matplotlib.pyplot as plt\n",
    "import torch\n",
    "from tqdm.notebook import tqdm\n",
    "\n",
    "from ip_is_all_you_need.simulations import gen_dictionary, mutual_coherence"
   ]
  },
  {
   "cell_type": "code",
   "execution_count": null,
   "metadata": {},
   "outputs": [],
   "source": [
    "from jax import random\n",
    "import cr.sparse.dict as crdict\n",
    "from random import shuffle\n",
    "\n",
    "m = 3200\n",
    "n = 4000\n",
    "indices = list(range(n))\n",
    "shuffle(indices)\n",
    "subset = indices[:m]\n",
    "\n",
    "key = random.PRNGKey(0)\n",
    "Phi = crdict.fourier_basis(n)[subset, :]\n",
    "print(crdict.coherence(Phi))\n",
    "Phi = crdict.gaussian_mtx(key, m, n)\n",
    "print(crdict.coherence(Phi))"
   ]
  },
  {
   "cell_type": "code",
   "execution_count": null,
   "metadata": {},
   "outputs": [],
   "source": [
    "m_min = 500\n",
    "m_max = 3100\n",
    "m_step = 100\n",
    "n_min = 500\n",
    "n_max = 3100\n",
    "n_step = 100\n",
    "batch_size = 100\n",
    "grid_size = (int((m_max - m_min) / m_step), int((n_max - n_min) / n_step))\n",
    "coherences = np.zeros(grid_size)\n",
    "\n",
    "def batch_mutual_coherence(Phi: torch.Tensor) -> torch.Tensor:\n",
    "    return (Phi.transpose(1, 2) @ Phi).triu(diagonal=1).abs().max(dim=2).values.max(dim=1).values\n",
    "\n",
    "\n",
    "for i, n in tqdm(enumerate(range(n_min, n_max, n_step)), total=grid_size[1]):\n",
    "    for j, m in enumerate(range(m_min, n + m_step, m_step)):\n",
    "        Phi = gen_dictionary(batch_size, m, n)\n",
    "        coherences[i, j] = batch_mutual_coherence(Phi).mean().item()"
   ]
  },
  {
   "cell_type": "code",
   "execution_count": null,
   "metadata": {},
   "outputs": [],
   "source": [
    "coherences[5,3]"
   ]
  },
  {
   "cell_type": "code",
   "execution_count": null,
   "metadata": {},
   "outputs": [],
   "source": [
    "import seaborn as sns\n",
    "sns.heatmap(coherences, xticklabels=np.arange(n_min, n_max, n_step), yticklabels=np.arange(m_min, m_max, m_step))"
   ]
  }
 ],
 "metadata": {
  "kernelspec": {
   "display_name": ".venv",
   "language": "python",
   "name": "python3"
  },
  "language_info": {
   "codemirror_mode": {
    "name": "ipython",
    "version": 3
   },
   "file_extension": ".py",
   "mimetype": "text/x-python",
   "name": "python",
   "nbconvert_exporter": "python",
   "pygments_lexer": "ipython3"
  }
 },
 "nbformat": 4,
 "nbformat_minor": 2
}
