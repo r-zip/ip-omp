{
 "cells": [
  {
   "cell_type": "code",
   "execution_count": null,
   "metadata": {},
   "outputs": [],
   "source": [
    "%matplotlib inline"
   ]
  },
  {
   "cell_type": "code",
   "execution_count": null,
   "metadata": {},
   "outputs": [],
   "source": [
    "%config InlineBackend.figure_format = \"retina\""
   ]
  },
  {
   "cell_type": "code",
   "execution_count": null,
   "metadata": {},
   "outputs": [],
   "source": [
    "%cd ~/projects/ip-is-all-you-need"
   ]
  },
  {
   "cell_type": "code",
   "execution_count": null,
   "metadata": {},
   "outputs": [],
   "source": [
    "import polars as pl\n",
    "import matplotlib.pyplot as plt\n",
    "import seaborn as sns\n",
    "sns.set()\n",
    "\n",
    "from ip_is_all_you_need.plots import get_phase_transition_data\n",
    "\n",
    "c = pl.col"
   ]
  },
  {
   "cell_type": "code",
   "execution_count": null,
   "metadata": {},
   "outputs": [],
   "source": [
    "df_large = pl.read_parquet(\"./results_large/results.parquet\").filter(c(\"m\") < 120)\n",
    "df_small = pl.read_parquet(\"./results_small/results.parquet\")"
   ]
  },
  {
   "cell_type": "code",
   "execution_count": null,
   "metadata": {},
   "outputs": [],
   "source": [
    "def get_phase_transition_data(df, algorithm):\n",
    "    df_pt = (\n",
    "        df.filter((c(\"algorithm\") == algorithm) & (c(\"iter\") == c(\"sparsity\") - 1))\n",
    "        .with_columns(\n",
    "            (c(\"mse_x\") / c(\"norm_x\") < 1e-14).alias(\"success\"),\n",
    "        )\n",
    "        .groupby(\"experiment_number\")\n",
    "        .agg(\n",
    "            c(\"m\").first(),\n",
    "            c(\"n\").first(),\n",
    "            c(\"measurement_rate\").first(),\n",
    "            c(\"sparsity\").first(),\n",
    "            c(\"noise_std\").first(),\n",
    "            c(\"success\").mean().alias(\"success_rate\"),\n",
    "        )\n",
    "        .with_columns(\n",
    "            (c(\"m\") / c(\"n\")).alias(\"measurement_rate\"),\n",
    "            (c(\"sparsity\") / c(\"m\")).alias(\"sparsity_rate\"),\n",
    "        )\n",
    "    )\n",
    "    return df_pt\n",
    "\n",
    "def plot_phase_transition(df, algorithm, normalize_axes=False):\n",
    "    n = df[\"n\"][0]\n",
    "    df_pt = get_phase_transition_data(df, algorithm)\n",
    "    if normalize_axes:\n",
    "        # FIXME\n",
    "        tbl = (\n",
    "            df_pt.sort(\n",
    "                by=[\"measurement_rate\", \"sparsity_rate\"], descending=[True, False]\n",
    "            )\n",
    "            .pivot(\n",
    "                values=\"success_rate\",\n",
    "                index=\"measurement_rate\",\n",
    "                columns=\"sparsity_rate\",\n",
    "                aggregate_function=\"first\",\n",
    "            )\n",
    "            .to_pandas()\n",
    "        )\n",
    "        sns.heatmap(tbl.iloc[:, 1:])\n",
    "        plt.xlabel(\"s / m\")\n",
    "        plt.ylabel(\"m / n\")\n",
    "    else:\n",
    "        tbl = (\n",
    "            df_pt.sort(by=[\"m\", \"sparsity\"], descending=[True, False])\n",
    "            .pivot(\n",
    "                values=\"success_rate\",\n",
    "                index=\"m\",\n",
    "                columns=\"sparsity\",\n",
    "                aggregate_function=\"first\",\n",
    "            )\n",
    "            .to_pandas()\n",
    "        )\n",
    "        tbl = tbl.set_index(\"m\", drop=True)\n",
    "        sns.heatmap(tbl)\n",
    "        plt.xlabel(\"Sparsity $s$\")\n",
    "        plt.ylabel(\"Number of measurements $m$\")\n",
    "\n",
    "    plt.title(f\"Phase Transition for {algorithm.upper()} (n={n})\")\n"
   ]
  },
  {
   "cell_type": "code",
   "execution_count": null,
   "metadata": {},
   "outputs": [],
   "source": [
    "plot_phase_transition(df_small, \"omp\")"
   ]
  },
  {
   "cell_type": "code",
   "execution_count": null,
   "metadata": {},
   "outputs": [],
   "source": [
    "plot_phase_transition(df_small, \"ip\")"
   ]
  },
  {
   "cell_type": "code",
   "execution_count": null,
   "metadata": {},
   "outputs": [],
   "source": [
    "plot_phase_transition(df_large, \"omp\")"
   ]
  },
  {
   "cell_type": "code",
   "execution_count": null,
   "metadata": {},
   "outputs": [],
   "source": [
    "plot_phase_transition(df_large, \"ip\")"
   ]
  },
  {
   "cell_type": "code",
   "execution_count": null,
   "metadata": {},
   "outputs": [],
   "source": [
    "def plot_probability_curves(df_small, df_large, save_file=None):\n",
    "    fig, axs = plt.subplots(1, 2, figsize=(13.0, 4.8), sharey=True)\n",
    "    for k, df in enumerate([df_small ,df_large]):\n",
    "        ax = axs[k]\n",
    "        df_pt_omp = get_phase_transition_data(df, \"omp\")\n",
    "        df_pt_ip = get_phase_transition_data(df, \"ip\")\n",
    "        n = df_pt_omp[\"n\"][0]\n",
    "\n",
    "        labels = []\n",
    "        lines = []\n",
    "        for s in sorted(df_pt_omp[\"sparsity\"].unique()):\n",
    "            labels.append(f\"$s$={s} (OMP)\")\n",
    "            labels.append(f\"$s$={s} (IP)\")\n",
    "            df_pt_at_s_omp = df_pt_omp.filter(c(\"sparsity\") == s).sort(\"m\")\n",
    "            df_pt_at_s_ip = df_pt_ip.filter(c(\"sparsity\") == s).sort(\"m\")\n",
    "            cur_lines = ax.plot(df_pt_at_s_omp[\"m\"], df_pt_at_s_omp[\"success_rate\"])\n",
    "            lines.append(cur_lines[0])\n",
    "            cur_lines = ax.plot(df_pt_at_s_ip[\"m\"], df_pt_at_s_ip[\"success_rate\"], \"o\", fillstyle=\"none\", color=cur_lines[0].get_color())\n",
    "            lines.append(cur_lines[0])\n",
    "            ax.set_xlabel(\"Number of measurements $m$\")\n",
    "            if k == 0:\n",
    "                ax.set_ylabel(\"Probability of exact recovery\")\n",
    "            ax.set_title(f\"$n$={n}\")\n",
    "            ax.grid(\"on\")\n",
    "\n",
    "    fig = plt.gcf()\n",
    "    fig.suptitle(\"Recovery probabilities for IP and OMP\")\n",
    "    fig.legend(lines, labels, loc=\"upper center\", bbox_to_anchor=(0.0, -.1, 1., .102), ncol=len(lines) / 2)\n",
    "    if save_file:\n",
    "        plt.savefig(save_file)"
   ]
  },
  {
   "cell_type": "code",
   "execution_count": null,
   "metadata": {},
   "outputs": [],
   "source": [
    "plot_probability_curves(df_small, df_large, save_file=\"./recovery_probability.eps\")"
   ]
  }
 ],
 "metadata": {
  "kernelspec": {
   "display_name": ".venv",
   "language": "python",
   "name": "python3"
  },
  "language_info": {
   "codemirror_mode": {
    "name": "ipython",
    "version": 3
   },
   "file_extension": ".py",
   "mimetype": "text/x-python",
   "name": "python",
   "nbconvert_exporter": "python",
   "pygments_lexer": "ipython3"
  }
 },
 "nbformat": 4,
 "nbformat_minor": 2
}
