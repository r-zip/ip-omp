{
 "cells": [
  {
   "cell_type": "code",
   "execution_count": null,
   "metadata": {},
   "outputs": [],
   "source": [
    "%matplotlib inline"
   ]
  },
  {
   "cell_type": "code",
   "execution_count": null,
   "metadata": {},
   "outputs": [],
   "source": [
    "%config InlineBackend.figure_format = \"retina\""
   ]
  },
  {
   "cell_type": "code",
   "execution_count": null,
   "metadata": {},
   "outputs": [],
   "source": [
    "%cd ~/projects/ip-is-all-you-need"
   ]
  },
  {
   "cell_type": "code",
   "execution_count": null,
   "metadata": {},
   "outputs": [],
   "source": [
    "import numpy as np\n",
    "import polars as pl\n",
    "import matplotlib.pyplot as plt\n",
    "import seaborn as sns\n",
    "from pathlib import Path\n",
    "from tqdm.auto import tqdm\n",
    "\n",
    "from ip_is_all_you_need.plots import get_phase_transition_data\n",
    "\n",
    "c = pl.col\n",
    "sns.set()"
   ]
  },
  {
   "cell_type": "code",
   "execution_count": null,
   "metadata": {},
   "outputs": [],
   "source": [
    "df_large = pl.read_parquet(\"./results_large/results.parquet\").filter(c(\"m\") < 120)\n",
    "df_small = pl.read_parquet(\"./results_small/results.parquet\")"
   ]
  },
  {
   "cell_type": "code",
   "execution_count": null,
   "metadata": {},
   "outputs": [],
   "source": [
    "def get_phase_transition_data(df, algorithm):\n",
    "    df_pt = (\n",
    "        # filter to only the last iteration\n",
    "        df.filter((c(\"algorithm\") == algorithm) & (c(\"iter\") == c(\"sparsity\") - 1))\n",
    "        # define success as relative reconstruction error < eps\n",
    "        .with_columns(\n",
    "            (c(\"mse_x\") / (c(\"norm_x\") ** 2) < 1e-14).alias(\"success\"),\n",
    "        )\n",
    "        # for each experiment\n",
    "        .groupby(\"experiment_number\")\n",
    "        # record the settings, success rate, and iou statistics\n",
    "        .agg(\n",
    "            c(\"m\").first(),\n",
    "            c(\"n\").first(),\n",
    "            c(\"measurement_rate\").first(),\n",
    "            c(\"sparsity\").first(),\n",
    "            c(\"noise_std\").first(),\n",
    "            c(\"iou\").mean(),\n",
    "            c(\"iou\").quantile(0.05).alias(\"iou_lo\"),\n",
    "            c(\"iou\").quantile(0.95).alias(\"iou_hi\"),\n",
    "            c(\"success\").mean().alias(\"success_rate\"),\n",
    "        )\n",
    "        .with_columns(\n",
    "            (c(\"m\") / c(\"n\")).alias(\"measurement_rate\"),\n",
    "            (c(\"sparsity\") / c(\"m\")).alias(\"sparsity_rate\"),\n",
    "        )\n",
    "    )\n",
    "    return df_pt\n",
    "\n",
    "def plot_phase_transition(df, algorithm, normalize_axes=False):\n",
    "    n = df[\"n\"][0]\n",
    "    df_pt = get_phase_transition_data(df, algorithm)\n",
    "    if normalize_axes:\n",
    "        # FIXME\n",
    "        tbl = (\n",
    "            df_pt.sort(\n",
    "                by=[\"measurement_rate\", \"sparsity_rate\"], descending=[True, False]\n",
    "            )\n",
    "            .pivot(\n",
    "                values=\"success_rate\",\n",
    "                index=\"measurement_rate\",\n",
    "                columns=\"sparsity_rate\",\n",
    "                aggregate_function=\"first\",\n",
    "            )\n",
    "            .to_pandas()\n",
    "        )\n",
    "        sns.heatmap(tbl.iloc[:, 1:])\n",
    "        plt.xlabel(\"s / m\")\n",
    "        plt.ylabel(\"m / n\")\n",
    "    else:\n",
    "        tbl = (\n",
    "            df_pt.sort(by=[\"m\", \"sparsity\"], descending=[True, False])\n",
    "            .pivot(\n",
    "                values=\"success_rate\",\n",
    "                index=\"m\",\n",
    "                columns=\"sparsity\",\n",
    "                aggregate_function=\"first\",\n",
    "            )\n",
    "            .to_pandas()\n",
    "        )\n",
    "        tbl = tbl.set_index(\"m\", drop=True)\n",
    "        sns.heatmap(tbl)\n",
    "        plt.xlabel(\"Sparsity $s$\")\n",
    "        plt.ylabel(\"Number of measurements $m$\")\n",
    "\n",
    "    plt.title(f\"Phase Transition for {algorithm.upper()} (n={n})\")\n"
   ]
  },
  {
   "cell_type": "code",
   "execution_count": null,
   "metadata": {},
   "outputs": [],
   "source": [
    "plot_phase_transition(df_small, \"omp\")"
   ]
  },
  {
   "cell_type": "code",
   "execution_count": null,
   "metadata": {},
   "outputs": [],
   "source": [
    "plot_phase_transition(df_small, \"ip\")"
   ]
  },
  {
   "cell_type": "code",
   "execution_count": null,
   "metadata": {},
   "outputs": [],
   "source": [
    "plot_phase_transition(df_large, \"omp\")"
   ]
  },
  {
   "cell_type": "code",
   "execution_count": null,
   "metadata": {},
   "outputs": [],
   "source": [
    "plot_phase_transition(df_large, \"ip\")"
   ]
  },
  {
   "cell_type": "code",
   "execution_count": null,
   "metadata": {},
   "outputs": [],
   "source": [
    "def plot_probability_curves(df_small, df_large, save_file=None):\n",
    "    fig, axs = plt.subplots(1, 2, figsize=(13.0, 4.8), sharey=True)\n",
    "    for k, df in enumerate([df_small ,df_large]):\n",
    "        ax = axs[k]\n",
    "        df_pt_omp = get_phase_transition_data(df, \"omp\")\n",
    "        df_pt_ip = get_phase_transition_data(df, \"ip\")\n",
    "        n = df_pt_omp[\"n\"][0]\n",
    "\n",
    "        labels = []\n",
    "        lines = []\n",
    "        for s in sorted(df_pt_omp[\"sparsity\"].unique()):\n",
    "            labels.append(f\"$s$={s} (OMP)\")\n",
    "            labels.append(f\"$s$={s} (IP)\")\n",
    "            df_pt_at_s_omp = df_pt_omp.filter(c(\"sparsity\") == s).sort(\"m\")\n",
    "            df_pt_at_s_ip = df_pt_ip.filter(c(\"sparsity\") == s).sort(\"m\")\n",
    "            cur_lines = ax.plot(df_pt_at_s_omp[\"m\"], df_pt_at_s_omp[\"success_rate\"])\n",
    "            lines.append(cur_lines[0])\n",
    "            cur_lines = ax.plot(df_pt_at_s_ip[\"m\"], df_pt_at_s_ip[\"success_rate\"], \"o\", fillstyle=\"none\", color=cur_lines[0].get_color())\n",
    "            lines.append(cur_lines[0])\n",
    "            ax.set_xlabel(\"Number of measurements $m$\")\n",
    "            if k == 0:\n",
    "                ax.set_ylabel(\"Probability of exact recovery\")\n",
    "            ax.set_title(f\"$n$={n}\")\n",
    "            ax.grid(\"on\")\n",
    "\n",
    "    fig = plt.gcf()\n",
    "    fig.legend(lines, labels, loc=\"upper center\", bbox_to_anchor=(0.0, -.1, 1., .102), ncol=len(lines) / 2)\n",
    "    if save_file:\n",
    "        plt.savefig(save_file, bbox_inches=\"tight\")\n",
    "\n",
    "\n",
    "def plot_iou_curves(df_small, df_large, save_file=None):\n",
    "    fig, axs = plt.subplots(1, 2, figsize=(13.0, 4.8), sharey=True)\n",
    "    for k, df in enumerate([df_small ,df_large]):\n",
    "        ax = axs[k]\n",
    "        df_pt_omp = get_phase_transition_data(df, \"omp\")\n",
    "        df_pt_ip = get_phase_transition_data(df, \"ip\")\n",
    "        n = df_pt_omp[\"n\"][0]\n",
    "\n",
    "        labels = []\n",
    "        lines = []\n",
    "        for s in sorted(df_pt_omp[\"sparsity\"].unique()):\n",
    "            labels.append(f\"$s$={s} (OMP)\")\n",
    "            labels.append(f\"$s$={s} (IP)\")\n",
    "            df_pt_at_s_omp = df_pt_omp.filter(c(\"sparsity\") == s).sort(\"m\")\n",
    "            df_pt_at_s_ip = df_pt_ip.filter(c(\"sparsity\") == s).sort(\"m\")\n",
    "            cur_lines = ax.plot(df_pt_at_s_omp[\"m\"], df_pt_at_s_omp[\"success_rate\"])\n",
    "            lines.append(cur_lines[0])\n",
    "            cur_lines = ax.plot(df_pt_at_s_ip[\"m\"], df_pt_at_s_ip[\"success_rate\"], \"o\", fillstyle=\"none\", color=cur_lines[0].get_color())\n",
    "            lines.append(cur_lines[0])\n",
    "            ax.set_xlabel(\"Number of measurements $m$\")\n",
    "            if k == 0:\n",
    "                ax.set_ylabel(\"Probability of exact recovery\")\n",
    "            ax.set_title(f\"$n$={n}\")\n",
    "            ax.grid(\"on\")\n",
    "\n",
    "    fig = plt.gcf()\n",
    "    fig.legend(lines, labels, loc=\"upper center\", bbox_to_anchor=(0.0, -.1, 1., .102), ncol=len(lines) / 2)\n",
    "    if save_file:\n",
    "        plt.savefig(save_file, bbox_inches=\"tight\")"
   ]
  },
  {
   "cell_type": "code",
   "execution_count": null,
   "metadata": {},
   "outputs": [],
   "source": [
    "plot_probability_curves(df_small, df_large, save_file=\"/Users/ryanpilgrim/projects/NeurIPS2023-IP-OMP/recovery_probability.eps\")"
   ]
  },
  {
   "cell_type": "code",
   "execution_count": null,
   "metadata": {},
   "outputs": [],
   "source": [
    "df_pt_small_ip = get_phase_transition_data(df_small, \"ip\")"
   ]
  },
  {
   "cell_type": "code",
   "execution_count": null,
   "metadata": {},
   "outputs": [],
   "source": [
    "def rel_mse(\n",
    "    args,\n",
    "):\n",
    "    return (\n",
    "        np.mean((np.array(args[\"x_hat_ip\"]) - np.array(args[\"x_hat_omp\"])) ** 2)\n",
    "        / args[\"norm_x\"] ** 2\n",
    "    )\n",
    "\n",
    "\n",
    "def get_relative_mse_ip_omp(results_dir):\n",
    "    results_dir = Path(results_dir)\n",
    "    directories = [d for d in results_dir.iterdir() if d.is_dir()]\n",
    "    dfs = []\n",
    "    # should probably load dataframes first, then apply method chain\n",
    "    # clean up later\n",
    "    for directory in tqdm(directories):\n",
    "        dfs.append(\n",
    "            pl.read_parquet(directory / \"results.parquet\")\n",
    "            .filter(c(\"iter\") == c(\"sparsity\") - 1)\n",
    "            .pivot(\n",
    "                [\n",
    "                    \"experiment_number\",\n",
    "                    \"m\",\n",
    "                    \"n\",\n",
    "                    \"sparsity\",\n",
    "                    \"x_hat\",\n",
    "                    \"norm_x\",\n",
    "                ],\n",
    "                index=[\"trial\", \"iter\"],\n",
    "                columns=\"algorithm\",\n",
    "                aggregate_function=\"first\",\n",
    "            )\n",
    "            .drop(\n",
    "                \"experiment_number_algorithm_ip\",\n",
    "                \"m_algorithm_ip\",\n",
    "                \"n_algorithm_ip\",\n",
    "                \"sparsity_algorithm_ip\",\n",
    "                \"norm_x_algorithm_ip\",\n",
    "            )\n",
    "            .rename(\n",
    "                {\n",
    "                    \"experiment_number_algorithm_omp\": \"experiment_number\",\n",
    "                    \"m_algorithm_omp\": \"m\",\n",
    "                    \"n_algorithm_omp\": \"n\",\n",
    "                    \"sparsity_algorithm_omp\": \"sparsity\",\n",
    "                    \"norm_x_algorithm_omp\": \"norm_x\",\n",
    "                    \"x_hat_algorithm_ip\": \"x_hat_ip\",\n",
    "                    \"x_hat_algorithm_omp\": \"x_hat_omp\",\n",
    "                }\n",
    "            )\n",
    "            .select(\n",
    "                \"trial\",\n",
    "                \"iter\",\n",
    "                \"experiment_number\",\n",
    "                \"m\",\n",
    "                \"n\",\n",
    "                \"sparsity\",\n",
    "                pl.struct(pl.all()).apply(rel_mse).alias(\"rel_mse_ip_omp\"),\n",
    "            )\n",
    "        )\n",
    "\n",
    "    rel_mse_ip_omp = (\n",
    "        pl.concat(dfs)\n",
    "        .groupby(\"experiment_number\")\n",
    "        .agg(\n",
    "            c(\"m\").first(),\n",
    "            c(\"n\").first(),\n",
    "            c(\"sparsity\").first(),\n",
    "            c(\"rel_mse_ip_omp\").mean(),\n",
    "            c(\"rel_mse_ip_omp\").quantile(0.05).alias(\"rel_mse_ip_omp_05p\"),\n",
    "            c(\"rel_mse_ip_omp\").quantile(0.95).alias(\"rel_mse_ip_omp_95p\"),\n",
    "        )\n",
    "        .sort(\"experiment_number\")\n",
    "    )\n",
    "\n",
    "    rel_mse_ip_omp.write_parquet(results_dir / \"rel_mse_ip_omp.parquet\")\n",
    "\n",
    "    return rel_mse_ip_omp"
   ]
  },
  {
   "cell_type": "code",
   "execution_count": null,
   "metadata": {},
   "outputs": [],
   "source": [
    "rel_mse_small = get_relative_mse_ip_omp(\"./results_small\")\n",
    "rel_mse_large = get_relative_mse_ip_omp(\"./results_large\")"
   ]
  },
  {
   "cell_type": "code",
   "execution_count": null,
   "metadata": {},
   "outputs": [],
   "source": [
    "def plot_agreement(rel_mse, save_path=None):\n",
    "    pd_rel_mse = rel_mse.pivot(\n",
    "        values=[\"rel_mse_ip_omp\", \"rel_mse_ip_omp_05p\", \"rel_mse_ip_omp_95p\"],\n",
    "        index=\"m\",\n",
    "        columns=\"sparsity\",\n",
    "        aggregate_function=\"first\",\n",
    "    ).sort(\"m\", descending=True).select(\"m\", c(r\"^rel_mse_ip_omp_sparsity_\\d{2}$\")).to_pandas()\n",
    "    pd_rel_mse.set_index(\"m\", inplace=True)\n",
    "    sns.heatmap(10 * np.log10(pd_rel_mse))\n",
    "    ax = plt.gca()\n",
    "    ax.set_xticklabels([int(x.split(\"_\")[-1]) for x in  pd_rel_mse.columns], rotation=0)\n",
    "    plt.xlabel(\"Sparsity $s$\")\n",
    "    plt.ylabel(\"Number of measurements $m$\")\n",
    "    if save_path:\n",
    "        plt.savefig(save_path)"
   ]
  },
  {
   "cell_type": "code",
   "execution_count": null,
   "metadata": {},
   "outputs": [],
   "source": [
    "plot_agreement(rel_mse_small)"
   ]
  },
  {
   "cell_type": "code",
   "execution_count": null,
   "metadata": {},
   "outputs": [],
   "source": [
    "plot_agreement(rel_mse_large)"
   ]
  }
 ],
 "metadata": {
  "kernelspec": {
   "display_name": ".venv",
   "language": "python",
   "name": "python3"
  },
  "language_info": {
   "codemirror_mode": {
    "name": "ipython",
    "version": 3
   },
   "file_extension": ".py",
   "mimetype": "text/x-python",
   "name": "python",
   "nbconvert_exporter": "python",
   "pygments_lexer": "ipython3"
  }
 },
 "nbformat": 4,
 "nbformat_minor": 2
}
