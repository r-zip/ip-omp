{
 "cells": [
  {
   "cell_type": "code",
   "execution_count": null,
   "metadata": {},
   "outputs": [],
   "source": [
    "%matplotlib inline"
   ]
  },
  {
   "cell_type": "code",
   "execution_count": null,
   "metadata": {},
   "outputs": [],
   "source": [
    "%config InlineBackend.figure_format = \"retina\""
   ]
  },
  {
   "cell_type": "code",
   "execution_count": null,
   "metadata": {},
   "outputs": [],
   "source": [
    "%cd ~/projects/ip-is-all-you-need"
   ]
  },
  {
   "cell_type": "code",
   "execution_count": null,
   "metadata": {},
   "outputs": [],
   "source": [
    "import polars as pl\n",
    "import matplotlib.pyplot as plt\n",
    "import seaborn as sns\n",
    "\n",
    "from ip_is_all_you_need.plots import get_phase_transition_data"
   ]
  },
  {
   "cell_type": "code",
   "execution_count": null,
   "metadata": {},
   "outputs": [],
   "source": [
    "df_large = pl.read_parquet(\"./results_large/results.parquet\").filter(c(\"m\") < 145)\n",
    "df_small = pl.read_parquet(\"./results_small/results.parquet\")"
   ]
  },
  {
   "cell_type": "code",
   "execution_count": null,
   "metadata": {},
   "outputs": [],
   "source": [
    "def plot_phase_transition(df, algorithm, normalize_axes=False):\n",
    "    c = pl.col\n",
    "    n = df[\"n\"][0]\n",
    "    df_pt = (\n",
    "        df.filter((c(\"algorithm\") == algorithm) & (c(\"iter\") == c(\"sparsity\") - 1))\n",
    "        .with_columns(\n",
    "            (c(\"mse_x\") / c(\"norm_x\") < 1e-15).alias(\"success\"),\n",
    "        )\n",
    "        .groupby(\"experiment_number\")\n",
    "        .agg(\n",
    "            c(\"m\").first(),\n",
    "            c(\"n\").first(),\n",
    "            c(\"measurement_rate\").first(),\n",
    "            c(\"sparsity\").first(),\n",
    "            c(\"noise_std\").first(),\n",
    "            c(\"success\").mean().alias(\"success_rate\"),\n",
    "        )\n",
    "        .with_columns(\n",
    "            (c(\"m\") / c(\"n\")).alias(\"measurement_rate\"),\n",
    "            (c(\"sparsity\") / c(\"m\")).alias(\"sparsity_rate\"),\n",
    "        )\n",
    "    )\n",
    "    if normalize_axes:\n",
    "        tbl = (\n",
    "            df_pt.sort(\n",
    "                by=[\"measurement_rate\", \"sparsity_rate\"], descending=[True, False]\n",
    "            )\n",
    "            .pivot(\n",
    "                values=\"success_rate\",\n",
    "                index=\"measurement_rate\",\n",
    "                columns=\"sparsity_rate\",\n",
    "                aggregate_function=\"first\",\n",
    "            )\n",
    "            .to_pandas()\n",
    "        )\n",
    "        tbl = tbl.set_index(\"measurement_rate\", drop=True)\n",
    "        sns.heatmap(tbl)\n",
    "        plt.xlabel(\"s / m\")\n",
    "        plt.ylabel(\"m / n\")\n",
    "    else:\n",
    "        tbl = (\n",
    "            df_pt.sort(by=[\"m\", \"sparsity\"], descending=[True, False])\n",
    "            .pivot(\n",
    "                values=\"success_rate\",\n",
    "                index=\"m\",\n",
    "                columns=\"sparsity\",\n",
    "                aggregate_function=\"first\",\n",
    "            )\n",
    "            .to_pandas()\n",
    "        )\n",
    "        tbl = tbl.set_index(\"m\", drop=True)\n",
    "        sns.heatmap(tbl)\n",
    "        plt.xlabel(\"s\")\n",
    "\n",
    "    plt.title(f\"Phase Transition for {algorithm.upper()} (n={n})\")\n"
   ]
  },
  {
   "cell_type": "code",
   "execution_count": null,
   "metadata": {},
   "outputs": [],
   "source": [
    "plot_phase_transition(df_small, \"omp\")"
   ]
  },
  {
   "cell_type": "code",
   "execution_count": null,
   "metadata": {},
   "outputs": [],
   "source": [
    "plot_phase_transition(df_small, \"ip\")"
   ]
  },
  {
   "cell_type": "code",
   "execution_count": null,
   "metadata": {},
   "outputs": [],
   "source": [
    "plot_phase_transition(df_large, \"omp\")"
   ]
  },
  {
   "cell_type": "code",
   "execution_count": null,
   "metadata": {},
   "outputs": [],
   "source": [
    "plot_phase_transition(df_large, \"ip\")"
   ]
  }
 ],
 "metadata": {
  "kernelspec": {
   "display_name": ".venv",
   "language": "python",
   "name": "python3"
  },
  "language_info": {
   "codemirror_mode": {
    "name": "ipython",
    "version": 3
   },
   "file_extension": ".py",
   "mimetype": "text/x-python",
   "name": "python",
   "nbconvert_exporter": "python",
   "pygments_lexer": "ipython3"
  }
 },
 "nbformat": 4,
 "nbformat_minor": 2
}
