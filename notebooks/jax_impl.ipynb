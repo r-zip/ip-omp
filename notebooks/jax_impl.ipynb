{
 "cells": [
  {
   "cell_type": "code",
   "execution_count": null,
   "metadata": {},
   "outputs": [],
   "source": [
    "%matplotlib inline"
   ]
  },
  {
   "cell_type": "code",
   "execution_count": null,
   "metadata": {},
   "outputs": [],
   "source": [
    "%config InlineBackend.figure_format = \"retina\""
   ]
  },
  {
   "cell_type": "code",
   "execution_count": null,
   "metadata": {},
   "outputs": [],
   "source": [
    "%cd ~/projects/ip-is-all-you-need"
   ]
  },
  {
   "cell_type": "code",
   "execution_count": null,
   "metadata": {},
   "outputs": [],
   "source": [
    "import logging\n",
    "\n",
    "import numpy as np\n",
    "from jax import config\n",
    "config.update(\"jax_enable_x64\", True)\n",
    "import jax.numpy as jnp\n",
    "from jax import vmap, pmap, jit\n",
    "import torch\n",
    "torch.set_default_dtype(torch.float64)\n",
    "\n",
    "from ip_is_all_you_need.simulations import gen_dictionary, generate_measurements_and_coeffs"
   ]
  },
  {
   "cell_type": "code",
   "execution_count": null,
   "metadata": {},
   "outputs": [],
   "source": [
    "logger = logging.getLogger()\n",
    "logger.setLevel(logging.INFO)"
   ]
  },
  {
   "cell_type": "code",
   "execution_count": null,
   "metadata": {},
   "outputs": [],
   "source": [
    "Phi = gen_dictionary(1, 500, 1000)\n",
    "y, x = generate_measurements_and_coeffs(Phi, p=0.1)"
   ]
  },
  {
   "cell_type": "code",
   "execution_count": null,
   "metadata": {},
   "outputs": [],
   "source": [
    "Phi_tmp = gen_dictionary(10, 500, 1000)\n",
    "y_tmp, x_tmp = generate_measurements_and_coeffs(Phi_tmp, p=0.1)\n",
    "Phi_batch = jnp.array(Phi_tmp.numpy())\n",
    "y_batch, x_batch = jnp.array(y_tmp.numpy()), jnp.array(x_tmp.numpy())"
   ]
  },
  {
   "cell_type": "code",
   "execution_count": null,
   "metadata": {},
   "outputs": [],
   "source": [
    "Phi = jnp.array(Phi[0].numpy())\n",
    "y = jnp.array(y[0].numpy())\n",
    "x = jnp.array(x[0].numpy())"
   ]
  },
  {
   "cell_type": "code",
   "execution_count": null,
   "metadata": {},
   "outputs": [],
   "source": [
    "from collections import defaultdict\n",
    "\n",
    "\n",
    "def ip(Phi, y, tol, normalize=True):\n",
    "    m = Phi.shape[0]\n",
    "    cols = []\n",
    "    all_cols = list(range(Phi.shape[1]))\n",
    "    rem_cols = all_cols.copy()\n",
    "    history = defaultdict(list)\n",
    "    for k in range(101):\n",
    "        Phi_t = Phi[:, cols]\n",
    "        Phi_rem = Phi[:, rem_cols]\n",
    "        P_perp = jnp.eye(m) - Phi_t @ jnp.linalg.pinv(Phi_t)\n",
    "        Phi_rem_projected = P_perp @ Phi_rem\n",
    "        numerator = jnp.linalg.norm(Phi_rem_projected, axis=0)[:, None] ** 2\n",
    "        if normalize:\n",
    "            denominator_quotient = jnp.exp(\n",
    "                2\n",
    "                * (\n",
    "                    jnp.log(jnp.abs(Phi_rem_projected.T @ y))\n",
    "                    - jnp.log(jnp.linalg.norm(P_perp @ y))\n",
    "                )\n",
    "            )\n",
    "            denominator = (numerator - denominator_quotient).clip(0)\n",
    "            objective = jnp.exp(jnp.log(numerator) - jnp.log(denominator))\n",
    "        else:\n",
    "            objective = jnp.exp(2 * (jnp.log(jnp.abs(Phi_rem_projected.T @ y)) - jnp.log(jnp.linalg.norm(Phi_rem_projected, axis=0)[:, None])))\n",
    "\n",
    "        max_col = rem_cols[jnp.argmax(objective).item()]\n",
    "        cols.append(max_col)\n",
    "        rem_cols.remove(max_col)\n",
    "        history[\"col\"].append(max_col)\n",
    "        history[\"objective\"].append(objective.max().item())\n",
    "\n",
    "    return history\n",
    "\n",
    "\n",
    "def ip2(Phi, y, max_iters, tol=1e-12):\n",
    "    m, n = Phi.shape\n",
    "    cols = []\n",
    "    all_cols = list(range(Phi.shape[1]))\n",
    "    rem_cols = all_cols.copy()\n",
    "    history = defaultdict(list)\n",
    "    Phi_t = Phi[:, jnp.array(cols, dtype=jnp.int32)]\n",
    "    Phi_rem = Phi[:, jnp.array(rem_cols, dtype=jnp.int32)]\n",
    "    for _ in range(max_iters):\n",
    "        Psi_t = jnp.hstack((y, Phi_t))\n",
    "        Phi_t_pinv = jnp.linalg.pinv(Phi_t)\n",
    "        Pi_t = Phi_t @ Phi_t_pinv\n",
    "        Pi_t_perp = jnp.eye(m) - Pi_t\n",
    "        Psi_t_pinv = jnp.linalg.pinv(Psi_t)\n",
    "        P_t = Psi_t @ Psi_t_pinv\n",
    "        P_t_perp = jnp.eye(m) - P_t\n",
    "        numerator = jnp.diag(Phi_rem.T @ Pi_t_perp @ Phi_rem)\n",
    "        denominator = jnp.diag(Phi_rem.T @ P_t_perp @ Phi_rem).clip(0)\n",
    "        objective = jnp.exp(jnp.log(numerator) - jnp.log(denominator))\n",
    "\n",
    "        if (objective - 1).max() < tol:\n",
    "            break\n",
    "\n",
    "        max_col = rem_cols[jnp.argmax(objective).item()]\n",
    "        cols.append(max_col)\n",
    "        rem_cols.remove(max_col)\n",
    "\n",
    "        Phi_t = Phi[:, jnp.array(cols, dtype=jnp.int32)]\n",
    "        Phi_rem = Phi[:, jnp.array(rem_cols, dtype=jnp.int32)]\n",
    "\n",
    "        history[\"col\"].append(max_col)\n",
    "        history[\"objective\"].append(objective.max().item())\n",
    "        history[\"x_hat\"].append(\n",
    "            jnp.zeros(n).at[jnp.array(cols, jnp.int32)].set(jnp.linalg.lstsq(Phi_t, y)[0].ravel())\n",
    "        )\n",
    "        history[\"y_hat\"].append(Phi @ history[\"x_hat\"][-1])\n",
    "\n",
    "        if jnp.isinf(objective.max()).item():\n",
    "            break\n",
    "\n",
    "    return history\n"
   ]
  },
  {
   "cell_type": "code",
   "execution_count": null,
   "metadata": {},
   "outputs": [],
   "source": [
    "%time hist = ip(Phi, y, 1e-6)"
   ]
  },
  {
   "cell_type": "code",
   "execution_count": null,
   "metadata": {},
   "outputs": [],
   "source": [
    "%time hist2 = ip2(Phi, y, 10_000)"
   ]
  },
  {
   "cell_type": "code",
   "execution_count": null,
   "metadata": {},
   "outputs": [],
   "source": [
    "%time hist3 = ip(Phi, y, 1e-6, normalize=False)"
   ]
  },
  {
   "cell_type": "code",
   "execution_count": null,
   "metadata": {},
   "outputs": [],
   "source": [
    "hist3[\"col\"] == hist[\"col\"]"
   ]
  },
  {
   "cell_type": "code",
   "execution_count": null,
   "metadata": {},
   "outputs": [],
   "source": [
    "hist2[\"col\"] == hist3[\"col\"][:-1]"
   ]
  },
  {
   "cell_type": "code",
   "execution_count": null,
   "metadata": {},
   "outputs": [],
   "source": [
    "plt.plot(x); plt.plot(hist2[\"x_hat\"][-1], \"o\", fillstyle=\"none\")"
   ]
  }
 ],
 "metadata": {
  "kernelspec": {
   "display_name": ".venv",
   "language": "python",
   "name": "python3"
  },
  "language_info": {
   "codemirror_mode": {
    "name": "ipython",
    "version": 3
   },
   "file_extension": ".py",
   "mimetype": "text/x-python",
   "name": "python",
   "nbconvert_exporter": "python",
   "pygments_lexer": "ipython3"
  }
 },
 "nbformat": 4,
 "nbformat_minor": 2
}
